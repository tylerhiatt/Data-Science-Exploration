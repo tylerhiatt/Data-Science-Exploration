{
  "cells": [
    {
      "cell_type": "code",
      "execution_count": 5,
      "metadata": {
        "id": "y8IZ6HQZ8UVz"
      },
      "outputs": [],
      "source": [
        "import numpy as np"
      ]
    },
    {
      "cell_type": "code",
      "execution_count": 7,
      "metadata": {
        "colab": {
          "base_uri": "https://localhost:8080/"
        },
        "id": "fbekzo_qivhY",
        "outputId": "b3b74b0d-2f9a-4bf6-f571-8687cfab7859"
      },
      "outputs": [
        {
          "name": "stdout",
          "output_type": "stream",
          "text": [
            "[1.1045833033333332, 0.23070079, 0.49267582666666665, -1.4784340533333333, -0.378716, 0.3797739133333334, -0.2552660666666667, 0.6078618, 0.67650773, -0.24496082666666666]\n"
          ]
        }
      ],
      "source": [
        "X =   [[ 0.9573075 ,  0.83877059,  1.51767182],\n",
        "       [ 0.83782936, -0.88288659,  0.7371596 ],\n",
        "       [-0.01786695,  0.83195016,  0.66394427],\n",
        "       [-2.43495362, -0.5999003 , -1.40044824],\n",
        "       [-0.67749399, -0.93229581,  0.4736418 ],\n",
        "       [ 0.47934903,  0.90244159, -0.24246888],\n",
        "       [ 1.00280715, -0.68745287, -1.08115248],\n",
        "       [ 0.98143632,  0.77163722,  0.07051186],\n",
        "       [ 1.10721349,  0.37520477,  0.54710493],\n",
        "       [ 0.20813717, -0.56000733, -0.38301232]]\n",
        "\n",
        "# calculate the mean over the columns using for loop\n",
        "sumArray = []\n",
        "\n",
        "for i in range(len(X)):\n",
        "  result = sum(X[i]) / len(X[i])\n",
        "  sumArray.append(result)\n",
        "print(sumArray)\n"
      ]
    },
    {
      "cell_type": "code",
      "execution_count": 9,
      "metadata": {
        "colab": {
          "base_uri": "https://localhost:8080/"
        },
        "id": "R24gCM3cRp3-",
        "outputId": "2124dacc-3303-4354-bee3-a2b679ddc95d"
      },
      "outputs": [
        {
          "name": "stdout",
          "output_type": "stream",
          "text": [
            "[ 1.1045833   0.23070079  0.49267583 -1.47843405 -0.378716    0.37977391\n",
            " -0.25526607  0.6078618   0.67650773 -0.24496083]\n"
          ]
        }
      ],
      "source": [
        "# calculate the mean over columns using numpy\n",
        "\n",
        "print(np.mean(X, axis = 1))\n"
      ]
    },
    {
      "cell_type": "code",
      "execution_count": null,
      "metadata": {
        "id": "aFedQMRzWZmj"
      },
      "outputs": [],
      "source": [
        "A =   [[-0.92597499,  0.43720423, -0.35210601],\n",
        "       [-1.57649123, -1.07509224,  0.47516471],\n",
        "       [-0.20934054,  1.02077567,  1.07644301],\n",
        "       [-0.15567112, -2.55700368, -1.46401899],\n",
        "       [ 0.02719893,  0.19837065,  1.85917993],\n",
        "       [-0.48220856, -0.5882894 ,  0.8520666 ],\n",
        "       [-0.61637754, -1.28843955,  0.21051033],\n",
        "       [-0.37856032, -0.18264039, -1.66748906],\n",
        "       [-1.88442764,  1.06363804, -0.73199025],\n",
        "       [ 1.1067878 , -1.50124564,  0.3577191 ]]\n",
        "       \n",
        "B =   [[ 0.83755816, -1.00443884, -0.50455401],\n",
        "       [ 0.17677451,  0.31791523,  0.87857933],\n",
        "       [-0.79809369,  1.05786099,  1.23321483],\n",
        "       [ 2.15225423,  0.03105143, -1.62707639],\n",
        "       [-0.38475992,  0.52332967, -0.80852807],\n",
        "       [-0.33078515, -0.39291109,  0.92239671],\n",
        "       [-0.68534134,  1.42376764, -0.56941844],\n",
        "       [-0.96316595, -0.9312169 , -0.6153402 ],\n",
        "       [ 0.11725929,  0.12216484,  0.22910712],\n",
        "       [-0.79512535,  1.4075714 , -0.53488747]]\n",
        "\n"
      ]
    },
    {
      "cell_type": "code",
      "execution_count": null,
      "metadata": {
        "colab": {
          "base_uri": "https://localhost:8080/"
        },
        "id": "cR3YHhl3umca",
        "outputId": "c5dae468-9a31-4295-8998-0578ee72de91"
      },
      "outputs": [
        {
          "name": "stdout",
          "output_type": "stream",
          "text": [
            "[[-0.08841683, -0.5672346099999999, -0.8566600200000001], [-1.39971672, -0.75717701, 1.35374404], [-1.0074342299999999, 2.07863666, 2.30965784], [1.99658311, -2.5259522499999996, -3.09109538], [-0.35756098999999997, 0.72170032, 1.0506518599999999], [-0.81299371, -0.98120049, 1.77446331], [-1.3017188800000001, 0.1353280899999998, -0.35890811], [-1.34172627, -1.11385729, -2.28282926], [-1.76716835, 1.18580288, -0.50288313], [0.31166245000000004, -0.09367424000000013, -0.17716837000000002]]\n"
          ]
        }
      ],
      "source": [
        "# element-wise addition using for loop\n",
        "C = [\n",
        "    [0, 0, 0],\n",
        "    [0, 0, 0],\n",
        "    [0, 0, 0],\n",
        "    [0, 0, 0],\n",
        "    [0, 0, 0],\n",
        "    [0, 0, 0],\n",
        "    [0, 0, 0],\n",
        "    [0, 0, 0],\n",
        "    [0, 0, 0],\n",
        "    [0, 0, 0]\n",
        "]\n",
        "\n",
        "for i in range(len(A)):\n",
        "  for j in range(len(A[0])):\n",
        "    C[i][j] = A[i][j] + B[i][j]\n",
        "\n",
        "print(C)\n",
        "    \n"
      ]
    },
    {
      "cell_type": "code",
      "execution_count": null,
      "metadata": {
        "colab": {
          "base_uri": "https://localhost:8080/"
        },
        "id": "Cma5qaOUYvqE",
        "outputId": "3a63e068-893e-4ff9-903f-592b85abe2cd"
      },
      "outputs": [
        {
          "name": "stdout",
          "output_type": "stream",
          "text": [
            "[[-0.08841683 -0.56723461 -0.85666002]\n",
            " [-1.39971672 -0.75717701  1.35374404]\n",
            " [-1.00743423  2.07863666  2.30965784]\n",
            " [ 1.99658311 -2.52595225 -3.09109538]\n",
            " [-0.35756099  0.72170032  1.05065186]\n",
            " [-0.81299371 -0.98120049  1.77446331]\n",
            " [-1.30171888  0.13532809 -0.35890811]\n",
            " [-1.34172627 -1.11385729 -2.28282926]\n",
            " [-1.76716835  1.18580288 -0.50288313]\n",
            " [ 0.31166245 -0.09367424 -0.17716837]]\n"
          ]
        }
      ],
      "source": [
        "# element-wise addition using numpy\n",
        "\n",
        "npA = np.asarray(A)\n",
        "npB = np.asarray(B)\n",
        "npC = npA + npB\n",
        "print(npC)\n"
      ]
    },
    {
      "cell_type": "code",
      "execution_count": null,
      "metadata": {
        "id": "8q014qGmOlJQ"
      },
      "outputs": [],
      "source": [
        "a = [4, 2, 6, 2, 5, 7, 5, 8, 8, 4]\n",
        "b = [0, 6, 15, 3, 4, 6, 10, 8, 8, 18]"
      ]
    },
    {
      "cell_type": "code",
      "execution_count": null,
      "metadata": {
        "colab": {
          "base_uri": "https://localhost:8080/"
        },
        "id": "-GiaX-WYPmQr",
        "outputId": "3a05d6d2-406a-454f-fca5-3da71f4ad889"
      },
      "outputs": [
        {
          "name": "stdout",
          "output_type": "stream",
          "text": [
            "420\n"
          ]
        }
      ],
      "source": [
        "# calculate dot product using for loop\n",
        "\n",
        "dp = 0\n",
        "for i in range(len(a)):\n",
        "    dp += (a[i]*b[i])\n",
        "print(dp)\n"
      ]
    },
    {
      "cell_type": "code",
      "execution_count": null,
      "metadata": {
        "colab": {
          "base_uri": "https://localhost:8080/"
        },
        "id": "FE_KQg1iOsfc",
        "outputId": "d7e8d4f6-0007-4c1e-88fb-39b867d5c44d"
      },
      "outputs": [
        {
          "name": "stdout",
          "output_type": "stream",
          "text": [
            "420\n"
          ]
        }
      ],
      "source": [
        "# calculate dot product using numpy\n",
        "\n",
        "npA = np.asarray(a)\n",
        "npB = np.asarray(b)\n",
        "dot_product = np.dot(a, b)\n",
        "print(dot_product)\n",
        "\n",
        "# print(np.dot(a, b))"
      ]
    },
    {
      "cell_type": "code",
      "execution_count": 2,
      "metadata": {
        "id": "kjxBIDcEQIHi"
      },
      "outputs": [],
      "source": [
        "A = [[1,2],\n",
        "    [2,1]]\n",
        "B = [[3],\n",
        "    [1]]"
      ]
    },
    {
      "cell_type": "code",
      "execution_count": 3,
      "metadata": {
        "colab": {
          "base_uri": "https://localhost:8080/"
        },
        "id": "doTAY_AeQYwZ",
        "outputId": "a379c433-c92b-49cd-84db-59ced489f311"
      },
      "outputs": [
        {
          "name": "stdout",
          "output_type": "stream",
          "text": [
            "[[5], [7]]\n"
          ]
        }
      ],
      "source": [
        "# matrix multiplication using for loops\n",
        "\n",
        "result = [[0 for x in range(1)] for y in range(2)]\n",
        " \n",
        "for i in range(len(A)):\n",
        "    for j in range(len(B[0])):\n",
        "        for k in range(len(B)):\n",
        " \n",
        "            result[i][j] += A[i][k] * B[k][j]\n",
        " \n",
        "print(result)\n"
      ]
    },
    {
      "cell_type": "code",
      "execution_count": 6,
      "metadata": {
        "colab": {
          "base_uri": "https://localhost:8080/"
        },
        "id": "Cz8Rb4coQZHe",
        "outputId": "a7fd352c-51fc-4d1c-c3cb-c5f28db12a1f"
      },
      "outputs": [
        {
          "name": "stdout",
          "output_type": "stream",
          "text": [
            "[[5]\n",
            " [7]]\n"
          ]
        }
      ],
      "source": [
        "# matrix multiplication using numpy\n",
        "\n",
        "npA = np.asarray(A)\n",
        "npB = np.asarray(B)\n",
        "matmul = np.matmul(npA, npB)\n",
        "print(matmul)\n"
      ]
    }
  ],
  "metadata": {
    "colab": {
      "provenance": []
    },
    "kernelspec": {
      "display_name": "Python 3.9.12 ('base')",
      "language": "python",
      "name": "python3"
    },
    "language_info": {
      "name": "python",
      "version": "3.9.12"
    },
    "vscode": {
      "interpreter": {
        "hash": "ed779fd3f3ed5ff3f46995a3877d4233e1edeb6ab46bc97c747432ad88fa5224"
      }
    }
  },
  "nbformat": 4,
  "nbformat_minor": 0
}
